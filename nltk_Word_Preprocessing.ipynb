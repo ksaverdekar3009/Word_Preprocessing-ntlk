{
  "nbformat": 4,
  "nbformat_minor": 0,
  "metadata": {
    "colab": {
      "provenance": [],
      "gpuType": "V28",
      "mount_file_id": "1H468G5rTZQw4IrEnYp4xwsVp-9Xi7IYX",
      "authorship_tag": "ABX9TyPOcnlCLXFeW/Oti1IWifi2",
      "include_colab_link": true
    },
    "kernelspec": {
      "name": "python3",
      "display_name": "Python 3"
    },
    "language_info": {
      "name": "python"
    },
    "accelerator": "TPU"
  },
  "cells": [
    {
      "cell_type": "markdown",
      "metadata": {
        "id": "view-in-github",
        "colab_type": "text"
      },
      "source": [
        "<a href=\"https://colab.research.google.com/github/ksaverdekar3009/Word_Preprocessing-ntlk/blob/main/nltk_Word_Preprocessing.ipynb\" target=\"_parent\"><img src=\"https://colab.research.google.com/assets/colab-badge.svg\" alt=\"Open In Colab\"/></a>"
      ]
    },
    {
      "cell_type": "code",
      "execution_count": null,
      "metadata": {
        "id": "EfNXxSaNYFgD"
      },
      "outputs": [],
      "source": [
        "#/content/drive/MyDrive/Extra/BuildingTextClassificationModelwithNLP_Free Course"
      ]
    },
    {
      "cell_type": "code",
      "source": [
        "#import the libraries\n",
        "import nltk\n",
        "import pandas as pd"
      ],
      "metadata": {
        "id": "K9JIvpo-dXID"
      },
      "execution_count": null,
      "outputs": []
    },
    {
      "cell_type": "code",
      "source": [
        "#download necessary modules for each task\n",
        "nltk.download('punkt_tab') # Download the tokenizer modules\n",
        "nltk.download('stopwords')\n",
        "nltk.download('wordnet') # Requried for semantic analysis for lemmatization\n",
        "nltk.download('average_perceptron_tagger') # download for pos tagger\n",
        "nltk.download('omw-1.4') #Download the WordNet OMW corpus"
      ],
      "metadata": {
        "colab": {
          "base_uri": "https://localhost:8080/"
        },
        "id": "qfH1GxnDeJ-R",
        "outputId": "650fc5c3-d9f2-4980-cc3a-483cf0305edf"
      },
      "execution_count": 9,
      "outputs": [
        {
          "output_type": "stream",
          "name": "stderr",
          "text": [
            "[nltk_data] Downloading package punkt_tab to /root/nltk_data...\n",
            "[nltk_data]   Package punkt_tab is already up-to-date!\n",
            "[nltk_data] Downloading package stopwords to /root/nltk_data...\n",
            "[nltk_data]   Package stopwords is already up-to-date!\n",
            "[nltk_data] Downloading package wordnet to /root/nltk_data...\n",
            "[nltk_data]   Package wordnet is already up-to-date!\n",
            "[nltk_data] Error loading average_perceptron_tagger: Package\n",
            "[nltk_data]     'average_perceptron_tagger' not found in index\n",
            "[nltk_data] Downloading package omw-1.4 to /root/nltk_data...\n",
            "[nltk_data]   Package omw-1.4 is already up-to-date!\n"
          ]
        },
        {
          "output_type": "execute_result",
          "data": {
            "text/plain": [
              "True"
            ]
          },
          "metadata": {},
          "execution_count": 9
        }
      ]
    },
    {
      "cell_type": "code",
      "source": [
        "#input text\n",
        "doc1 = \"Birdwatching study, is a serene and educational hobby, which has captivated enthusiasts worldwide by offering an intimate glimpse into the avian world. This activity not only deepens one’s appreciation for nature’s diversity but also enhances observational skills, as birdwatchers learn to identify species by their plumage, calls, and behavior. The process begins with the birdwatcher positioning themselves in habitats ranging from dense forests to urban parks, armed with essential tools such as binoculars and field guides. These guides are invaluable for distinguishing between species, noting characteristics such as color patterns, sizes, and distinctive markings. Additionally, listening plays a crucial role in birdwatching; the ability to recognize birdsongs and calls can reveal the presence of species hidden from view. The practice also involves recording observations, often in a journal or a digital app, which contributes to citizen science by providing data on bird populations and migration patterns. This aspect of birdwatching underscores its significance beyond recreation, highlighting its contribution to conservation efforts. Through these endeavors, birdwatching fosters a connection with nature, encourages environmental stewardship, and provides insights into the ecological roles of birds within their habitats. As such, it serves as a multifaceted activity that combines leisure with learning and conservation.\"\n",
        "doc2 = \"Spelunking, an adventurous and enlightening hobby, has attracted enthusiasts worldwide with its thrilling exploration of the subterranean world. This activity not only heightens one's appreciation for the planet's underground beauty but also sharpens exploratory skills, as spelunkers learn to navigate through caves, recognizing formations like stalactites, stalagmites, and mineral deposits. The journey begins with the spelunker equipping themselves with essential gear such as helmets, headlamps, and protective clothing, venturing into environments ranging from vast cave systems to narrow underground passages. These tools are crucial for safe navigation and observation of geological features, enabling spelunkers to identify and appreciate the unique characteristics of each cave. Moreover, listening plays a pivotal role in spelunking; the sounds of dripping water or the echo of a chamber can enhance the sensory experience. The practice also includes documenting discoveries, often in a journal or digital format, contributing to scientific knowledge by providing data on geology, hydrology, and cave biology. This aspect of spelunking emphasizes its value beyond adventure, highlighting its contribution to scientific understanding and conservation. Through these pursuits, spelunking fosters a connection with the earth's hidden landscapes, promotes environmental awareness, and provides insights into the geological processes that shape our world. As such, it serves as a multifaceted activity that blends excitement with education and environmental stewardship.\"\n",
        "doc3 = \"Golfing, a refined and strategic hobby, has enchanted enthusiasts worldwide with its blend of skill, patience, and outdoor beauty. This activity not only deepens one's appreciation for meticulously designed landscapes but also hones precision and focus, as golfers learn to master strokes, understand course topography, and gauge environmental factors like wind and terrain. The experience begins with the golfer equipping themselves with essential gear such as clubs, balls, and tees, embarking on courses that range from lush greens to challenging sand traps and water hazards. These tools are indispensable for executing a variety of shots, allowing golfers to navigate through courses while aiming to minimize their strokes. Moreover, observation plays a crucial role in golfing; the ability to read greens and anticipate ball paths can significantly influence gameplay. The practice also involves keeping score, often in a digital app or scorecard, which adds a competitive element and enables tracking of progress and skill improvement. This aspect of golfing underscores its appeal beyond leisure, highlighting its capacity for personal challenge and mental discipline. Through these endeavors, golfing fosters a connection with the outdoors, encourages sportsmanship, and provides insights into personal strategy and resilience. As such, it serves as a multifaceted activity that combines relaxation with challenge and personal development.\"\n",
        "\n",
        "corpus = [doc1, doc2, doc3]"
      ],
      "metadata": {
        "id": "ra6T5EwYfaBf"
      },
      "execution_count": 10,
      "outputs": []
    },
    {
      "cell_type": "code",
      "source": [
        "#Tokenization\n",
        "from nltk.tokenize import word_tokenize\n",
        "tokenized_corpus = [word_tokenize(doc) for doc in corpus]\n",
        "\n",
        "#Printing all the tokens for all the docs with token length of each document\n",
        "print(\"Tokenized Corpus:\")\n",
        "for i,doc in enumerate(tokenized_corpus):\n",
        "  print(f\"Document {i+1}: {doc} \\n(Token Length: {len(doc)})\")"
      ],
      "metadata": {
        "colab": {
          "base_uri": "https://localhost:8080/"
        },
        "id": "hOYelJ1XgDUu",
        "outputId": "c4f48777-abfe-44fe-d720-777d85acb11d"
      },
      "execution_count": 30,
      "outputs": [
        {
          "output_type": "stream",
          "name": "stdout",
          "text": [
            "Tokenized Corpus:\n",
            "Document 1: ['Birdwatching', 'study', ',', 'is', 'a', 'serene', 'and', 'educational', 'hobby', ',', 'which', 'has', 'captivated', 'enthusiasts', 'worldwide', 'by', 'offering', 'an', 'intimate', 'glimpse', 'into', 'the', 'avian', 'world', '.', 'This', 'activity', 'not', 'only', 'deepens', 'one', '’', 's', 'appreciation', 'for', 'nature', '’', 's', 'diversity', 'but', 'also', 'enhances', 'observational', 'skills', ',', 'as', 'birdwatchers', 'learn', 'to', 'identify', 'species', 'by', 'their', 'plumage', ',', 'calls', ',', 'and', 'behavior', '.', 'The', 'process', 'begins', 'with', 'the', 'birdwatcher', 'positioning', 'themselves', 'in', 'habitats', 'ranging', 'from', 'dense', 'forests', 'to', 'urban', 'parks', ',', 'armed', 'with', 'essential', 'tools', 'such', 'as', 'binoculars', 'and', 'field', 'guides', '.', 'These', 'guides', 'are', 'invaluable', 'for', 'distinguishing', 'between', 'species', ',', 'noting', 'characteristics', 'such', 'as', 'color', 'patterns', ',', 'sizes', ',', 'and', 'distinctive', 'markings', '.', 'Additionally', ',', 'listening', 'plays', 'a', 'crucial', 'role', 'in', 'birdwatching', ';', 'the', 'ability', 'to', 'recognize', 'birdsongs', 'and', 'calls', 'can', 'reveal', 'the', 'presence', 'of', 'species', 'hidden', 'from', 'view', '.', 'The', 'practice', 'also', 'involves', 'recording', 'observations', ',', 'often', 'in', 'a', 'journal', 'or', 'a', 'digital', 'app', ',', 'which', 'contributes', 'to', 'citizen', 'science', 'by', 'providing', 'data', 'on', 'bird', 'populations', 'and', 'migration', 'patterns', '.', 'This', 'aspect', 'of', 'birdwatching', 'underscores', 'its', 'significance', 'beyond', 'recreation', ',', 'highlighting', 'its', 'contribution', 'to', 'conservation', 'efforts', '.', 'Through', 'these', 'endeavors', ',', 'birdwatching', 'fosters', 'a', 'connection', 'with', 'nature', ',', 'encourages', 'environmental', 'stewardship', ',', 'and', 'provides', 'insights', 'into', 'the', 'ecological', 'roles', 'of', 'birds', 'within', 'their', 'habitats', '.', 'As', 'such', ',', 'it', 'serves', 'as', 'a', 'multifaceted', 'activity', 'that', 'combines', 'leisure', 'with', 'learning', 'and', 'conservation', '.'] \n",
            "(Token Length: 231)\n",
            "Document 2: ['Spelunking', ',', 'an', 'adventurous', 'and', 'enlightening', 'hobby', ',', 'has', 'attracted', 'enthusiasts', 'worldwide', 'with', 'its', 'thrilling', 'exploration', 'of', 'the', 'subterranean', 'world', '.', 'This', 'activity', 'not', 'only', 'heightens', 'one', \"'s\", 'appreciation', 'for', 'the', 'planet', \"'s\", 'underground', 'beauty', 'but', 'also', 'sharpens', 'exploratory', 'skills', ',', 'as', 'spelunkers', 'learn', 'to', 'navigate', 'through', 'caves', ',', 'recognizing', 'formations', 'like', 'stalactites', ',', 'stalagmites', ',', 'and', 'mineral', 'deposits', '.', 'The', 'journey', 'begins', 'with', 'the', 'spelunker', 'equipping', 'themselves', 'with', 'essential', 'gear', 'such', 'as', 'helmets', ',', 'headlamps', ',', 'and', 'protective', 'clothing', ',', 'venturing', 'into', 'environments', 'ranging', 'from', 'vast', 'cave', 'systems', 'to', 'narrow', 'underground', 'passages', '.', 'These', 'tools', 'are', 'crucial', 'for', 'safe', 'navigation', 'and', 'observation', 'of', 'geological', 'features', ',', 'enabling', 'spelunkers', 'to', 'identify', 'and', 'appreciate', 'the', 'unique', 'characteristics', 'of', 'each', 'cave', '.', 'Moreover', ',', 'listening', 'plays', 'a', 'pivotal', 'role', 'in', 'spelunking', ';', 'the', 'sounds', 'of', 'dripping', 'water', 'or', 'the', 'echo', 'of', 'a', 'chamber', 'can', 'enhance', 'the', 'sensory', 'experience', '.', 'The', 'practice', 'also', 'includes', 'documenting', 'discoveries', ',', 'often', 'in', 'a', 'journal', 'or', 'digital', 'format', ',', 'contributing', 'to', 'scientific', 'knowledge', 'by', 'providing', 'data', 'on', 'geology', ',', 'hydrology', ',', 'and', 'cave', 'biology', '.', 'This', 'aspect', 'of', 'spelunking', 'emphasizes', 'its', 'value', 'beyond', 'adventure', ',', 'highlighting', 'its', 'contribution', 'to', 'scientific', 'understanding', 'and', 'conservation', '.', 'Through', 'these', 'pursuits', ',', 'spelunking', 'fosters', 'a', 'connection', 'with', 'the', 'earth', \"'s\", 'hidden', 'landscapes', ',', 'promotes', 'environmental', 'awareness', ',', 'and', 'provides', 'insights', 'into', 'the', 'geological', 'processes', 'that', 'shape', 'our', 'world', '.', 'As', 'such', ',', 'it', 'serves', 'as', 'a', 'multifaceted', 'activity', 'that', 'blends', 'excitement', 'with', 'education', 'and', 'environmental', 'stewardship', '.'] \n",
            "(Token Length: 246)\n",
            "Document 3: ['Golfing', ',', 'a', 'refined', 'and', 'strategic', 'hobby', ',', 'has', 'enchanted', 'enthusiasts', 'worldwide', 'with', 'its', 'blend', 'of', 'skill', ',', 'patience', ',', 'and', 'outdoor', 'beauty', '.', 'This', 'activity', 'not', 'only', 'deepens', 'one', \"'s\", 'appreciation', 'for', 'meticulously', 'designed', 'landscapes', 'but', 'also', 'hones', 'precision', 'and', 'focus', ',', 'as', 'golfers', 'learn', 'to', 'master', 'strokes', ',', 'understand', 'course', 'topography', ',', 'and', 'gauge', 'environmental', 'factors', 'like', 'wind', 'and', 'terrain', '.', 'The', 'experience', 'begins', 'with', 'the', 'golfer', 'equipping', 'themselves', 'with', 'essential', 'gear', 'such', 'as', 'clubs', ',', 'balls', ',', 'and', 'tees', ',', 'embarking', 'on', 'courses', 'that', 'range', 'from', 'lush', 'greens', 'to', 'challenging', 'sand', 'traps', 'and', 'water', 'hazards', '.', 'These', 'tools', 'are', 'indispensable', 'for', 'executing', 'a', 'variety', 'of', 'shots', ',', 'allowing', 'golfers', 'to', 'navigate', 'through', 'courses', 'while', 'aiming', 'to', 'minimize', 'their', 'strokes', '.', 'Moreover', ',', 'observation', 'plays', 'a', 'crucial', 'role', 'in', 'golfing', ';', 'the', 'ability', 'to', 'read', 'greens', 'and', 'anticipate', 'ball', 'paths', 'can', 'significantly', 'influence', 'gameplay', '.', 'The', 'practice', 'also', 'involves', 'keeping', 'score', ',', 'often', 'in', 'a', 'digital', 'app', 'or', 'scorecard', ',', 'which', 'adds', 'a', 'competitive', 'element', 'and', 'enables', 'tracking', 'of', 'progress', 'and', 'skill', 'improvement', '.', 'This', 'aspect', 'of', 'golfing', 'underscores', 'its', 'appeal', 'beyond', 'leisure', ',', 'highlighting', 'its', 'capacity', 'for', 'personal', 'challenge', 'and', 'mental', 'discipline', '.', 'Through', 'these', 'endeavors', ',', 'golfing', 'fosters', 'a', 'connection', 'with', 'the', 'outdoors', ',', 'encourages', 'sportsmanship', ',', 'and', 'provides', 'insights', 'into', 'personal', 'strategy', 'and', 'resilience', '.', 'As', 'such', ',', 'it', 'serves', 'as', 'a', 'multifaceted', 'activity', 'that', 'combines', 'relaxation', 'with', 'challenge', 'and', 'personal', 'development', '.'] \n",
            "(Token Length: 238)\n"
          ]
        }
      ]
    },
    {
      "cell_type": "code",
      "source": [
        "#Lowercasing\n",
        "#Convert tokens to lowercase\n",
        "lowercased_corpus = [[token.lower() for token in doc] for doc in tokenized_corpus]\n",
        "\n",
        "#Print the tokenized and lowercased documents\n",
        "print(\"Lowercased Corpus:\")\n",
        "for i,doc in enumerate(lowercased_corpus):\n",
        "  print(f\"Document {i+1}: {doc} \\n(Token Length: {len(doc)})\")\n"
      ],
      "metadata": {
        "colab": {
          "base_uri": "https://localhost:8080/"
        },
        "id": "sqfi9Vz-hPX6",
        "outputId": "d4ee2df2-6694-4590-df72-41c60c644359"
      },
      "execution_count": 31,
      "outputs": [
        {
          "output_type": "stream",
          "name": "stdout",
          "text": [
            "Lowercased Corpus:\n",
            "Document 1: ['birdwatching', 'study', ',', 'is', 'a', 'serene', 'and', 'educational', 'hobby', ',', 'which', 'has', 'captivated', 'enthusiasts', 'worldwide', 'by', 'offering', 'an', 'intimate', 'glimpse', 'into', 'the', 'avian', 'world', '.', 'this', 'activity', 'not', 'only', 'deepens', 'one', '’', 's', 'appreciation', 'for', 'nature', '’', 's', 'diversity', 'but', 'also', 'enhances', 'observational', 'skills', ',', 'as', 'birdwatchers', 'learn', 'to', 'identify', 'species', 'by', 'their', 'plumage', ',', 'calls', ',', 'and', 'behavior', '.', 'the', 'process', 'begins', 'with', 'the', 'birdwatcher', 'positioning', 'themselves', 'in', 'habitats', 'ranging', 'from', 'dense', 'forests', 'to', 'urban', 'parks', ',', 'armed', 'with', 'essential', 'tools', 'such', 'as', 'binoculars', 'and', 'field', 'guides', '.', 'these', 'guides', 'are', 'invaluable', 'for', 'distinguishing', 'between', 'species', ',', 'noting', 'characteristics', 'such', 'as', 'color', 'patterns', ',', 'sizes', ',', 'and', 'distinctive', 'markings', '.', 'additionally', ',', 'listening', 'plays', 'a', 'crucial', 'role', 'in', 'birdwatching', ';', 'the', 'ability', 'to', 'recognize', 'birdsongs', 'and', 'calls', 'can', 'reveal', 'the', 'presence', 'of', 'species', 'hidden', 'from', 'view', '.', 'the', 'practice', 'also', 'involves', 'recording', 'observations', ',', 'often', 'in', 'a', 'journal', 'or', 'a', 'digital', 'app', ',', 'which', 'contributes', 'to', 'citizen', 'science', 'by', 'providing', 'data', 'on', 'bird', 'populations', 'and', 'migration', 'patterns', '.', 'this', 'aspect', 'of', 'birdwatching', 'underscores', 'its', 'significance', 'beyond', 'recreation', ',', 'highlighting', 'its', 'contribution', 'to', 'conservation', 'efforts', '.', 'through', 'these', 'endeavors', ',', 'birdwatching', 'fosters', 'a', 'connection', 'with', 'nature', ',', 'encourages', 'environmental', 'stewardship', ',', 'and', 'provides', 'insights', 'into', 'the', 'ecological', 'roles', 'of', 'birds', 'within', 'their', 'habitats', '.', 'as', 'such', ',', 'it', 'serves', 'as', 'a', 'multifaceted', 'activity', 'that', 'combines', 'leisure', 'with', 'learning', 'and', 'conservation', '.'] \n",
            "(Token Length: 231)\n",
            "Document 2: ['spelunking', ',', 'an', 'adventurous', 'and', 'enlightening', 'hobby', ',', 'has', 'attracted', 'enthusiasts', 'worldwide', 'with', 'its', 'thrilling', 'exploration', 'of', 'the', 'subterranean', 'world', '.', 'this', 'activity', 'not', 'only', 'heightens', 'one', \"'s\", 'appreciation', 'for', 'the', 'planet', \"'s\", 'underground', 'beauty', 'but', 'also', 'sharpens', 'exploratory', 'skills', ',', 'as', 'spelunkers', 'learn', 'to', 'navigate', 'through', 'caves', ',', 'recognizing', 'formations', 'like', 'stalactites', ',', 'stalagmites', ',', 'and', 'mineral', 'deposits', '.', 'the', 'journey', 'begins', 'with', 'the', 'spelunker', 'equipping', 'themselves', 'with', 'essential', 'gear', 'such', 'as', 'helmets', ',', 'headlamps', ',', 'and', 'protective', 'clothing', ',', 'venturing', 'into', 'environments', 'ranging', 'from', 'vast', 'cave', 'systems', 'to', 'narrow', 'underground', 'passages', '.', 'these', 'tools', 'are', 'crucial', 'for', 'safe', 'navigation', 'and', 'observation', 'of', 'geological', 'features', ',', 'enabling', 'spelunkers', 'to', 'identify', 'and', 'appreciate', 'the', 'unique', 'characteristics', 'of', 'each', 'cave', '.', 'moreover', ',', 'listening', 'plays', 'a', 'pivotal', 'role', 'in', 'spelunking', ';', 'the', 'sounds', 'of', 'dripping', 'water', 'or', 'the', 'echo', 'of', 'a', 'chamber', 'can', 'enhance', 'the', 'sensory', 'experience', '.', 'the', 'practice', 'also', 'includes', 'documenting', 'discoveries', ',', 'often', 'in', 'a', 'journal', 'or', 'digital', 'format', ',', 'contributing', 'to', 'scientific', 'knowledge', 'by', 'providing', 'data', 'on', 'geology', ',', 'hydrology', ',', 'and', 'cave', 'biology', '.', 'this', 'aspect', 'of', 'spelunking', 'emphasizes', 'its', 'value', 'beyond', 'adventure', ',', 'highlighting', 'its', 'contribution', 'to', 'scientific', 'understanding', 'and', 'conservation', '.', 'through', 'these', 'pursuits', ',', 'spelunking', 'fosters', 'a', 'connection', 'with', 'the', 'earth', \"'s\", 'hidden', 'landscapes', ',', 'promotes', 'environmental', 'awareness', ',', 'and', 'provides', 'insights', 'into', 'the', 'geological', 'processes', 'that', 'shape', 'our', 'world', '.', 'as', 'such', ',', 'it', 'serves', 'as', 'a', 'multifaceted', 'activity', 'that', 'blends', 'excitement', 'with', 'education', 'and', 'environmental', 'stewardship', '.'] \n",
            "(Token Length: 246)\n",
            "Document 3: ['golfing', ',', 'a', 'refined', 'and', 'strategic', 'hobby', ',', 'has', 'enchanted', 'enthusiasts', 'worldwide', 'with', 'its', 'blend', 'of', 'skill', ',', 'patience', ',', 'and', 'outdoor', 'beauty', '.', 'this', 'activity', 'not', 'only', 'deepens', 'one', \"'s\", 'appreciation', 'for', 'meticulously', 'designed', 'landscapes', 'but', 'also', 'hones', 'precision', 'and', 'focus', ',', 'as', 'golfers', 'learn', 'to', 'master', 'strokes', ',', 'understand', 'course', 'topography', ',', 'and', 'gauge', 'environmental', 'factors', 'like', 'wind', 'and', 'terrain', '.', 'the', 'experience', 'begins', 'with', 'the', 'golfer', 'equipping', 'themselves', 'with', 'essential', 'gear', 'such', 'as', 'clubs', ',', 'balls', ',', 'and', 'tees', ',', 'embarking', 'on', 'courses', 'that', 'range', 'from', 'lush', 'greens', 'to', 'challenging', 'sand', 'traps', 'and', 'water', 'hazards', '.', 'these', 'tools', 'are', 'indispensable', 'for', 'executing', 'a', 'variety', 'of', 'shots', ',', 'allowing', 'golfers', 'to', 'navigate', 'through', 'courses', 'while', 'aiming', 'to', 'minimize', 'their', 'strokes', '.', 'moreover', ',', 'observation', 'plays', 'a', 'crucial', 'role', 'in', 'golfing', ';', 'the', 'ability', 'to', 'read', 'greens', 'and', 'anticipate', 'ball', 'paths', 'can', 'significantly', 'influence', 'gameplay', '.', 'the', 'practice', 'also', 'involves', 'keeping', 'score', ',', 'often', 'in', 'a', 'digital', 'app', 'or', 'scorecard', ',', 'which', 'adds', 'a', 'competitive', 'element', 'and', 'enables', 'tracking', 'of', 'progress', 'and', 'skill', 'improvement', '.', 'this', 'aspect', 'of', 'golfing', 'underscores', 'its', 'appeal', 'beyond', 'leisure', ',', 'highlighting', 'its', 'capacity', 'for', 'personal', 'challenge', 'and', 'mental', 'discipline', '.', 'through', 'these', 'endeavors', ',', 'golfing', 'fosters', 'a', 'connection', 'with', 'the', 'outdoors', ',', 'encourages', 'sportsmanship', ',', 'and', 'provides', 'insights', 'into', 'personal', 'strategy', 'and', 'resilience', '.', 'as', 'such', ',', 'it', 'serves', 'as', 'a', 'multifaceted', 'activity', 'that', 'combines', 'relaxation', 'with', 'challenge', 'and', 'personal', 'development', '.'] \n",
            "(Token Length: 238)\n"
          ]
        }
      ]
    },
    {
      "cell_type": "code",
      "source": [
        "#Removing Punctuations\n",
        "#import string\n",
        "\n",
        "#Remove Punctuation\n",
        "no_punctation_docs=[]\n",
        "for doc in lowercased_corpus:\n",
        "  no_punctation_docs.append([token for token in doc if token.isalpha()])\n",
        "\n",
        "print(\"No Punctuation Corpus:\")\n",
        "for i,doc in enumerate(no_punctation_docs):\n",
        "  print(f\"Document {i+1}: {doc} \\n(Token Length: {len(doc)})\")"
      ],
      "metadata": {
        "colab": {
          "base_uri": "https://localhost:8080/"
        },
        "id": "Efnm002KnN3f",
        "outputId": "07c6f16a-3dda-4c8b-b520-7001dd6943e9"
      },
      "execution_count": 32,
      "outputs": [
        {
          "output_type": "stream",
          "name": "stdout",
          "text": [
            "No Punctuation Corpus:\n",
            "Document 1: ['birdwatching', 'study', 'is', 'a', 'serene', 'and', 'educational', 'hobby', 'which', 'has', 'captivated', 'enthusiasts', 'worldwide', 'by', 'offering', 'an', 'intimate', 'glimpse', 'into', 'the', 'avian', 'world', 'this', 'activity', 'not', 'only', 'deepens', 'one', 's', 'appreciation', 'for', 'nature', 's', 'diversity', 'but', 'also', 'enhances', 'observational', 'skills', 'as', 'birdwatchers', 'learn', 'to', 'identify', 'species', 'by', 'their', 'plumage', 'calls', 'and', 'behavior', 'the', 'process', 'begins', 'with', 'the', 'birdwatcher', 'positioning', 'themselves', 'in', 'habitats', 'ranging', 'from', 'dense', 'forests', 'to', 'urban', 'parks', 'armed', 'with', 'essential', 'tools', 'such', 'as', 'binoculars', 'and', 'field', 'guides', 'these', 'guides', 'are', 'invaluable', 'for', 'distinguishing', 'between', 'species', 'noting', 'characteristics', 'such', 'as', 'color', 'patterns', 'sizes', 'and', 'distinctive', 'markings', 'additionally', 'listening', 'plays', 'a', 'crucial', 'role', 'in', 'birdwatching', 'the', 'ability', 'to', 'recognize', 'birdsongs', 'and', 'calls', 'can', 'reveal', 'the', 'presence', 'of', 'species', 'hidden', 'from', 'view', 'the', 'practice', 'also', 'involves', 'recording', 'observations', 'often', 'in', 'a', 'journal', 'or', 'a', 'digital', 'app', 'which', 'contributes', 'to', 'citizen', 'science', 'by', 'providing', 'data', 'on', 'bird', 'populations', 'and', 'migration', 'patterns', 'this', 'aspect', 'of', 'birdwatching', 'underscores', 'its', 'significance', 'beyond', 'recreation', 'highlighting', 'its', 'contribution', 'to', 'conservation', 'efforts', 'through', 'these', 'endeavors', 'birdwatching', 'fosters', 'a', 'connection', 'with', 'nature', 'encourages', 'environmental', 'stewardship', 'and', 'provides', 'insights', 'into', 'the', 'ecological', 'roles', 'of', 'birds', 'within', 'their', 'habitats', 'as', 'such', 'it', 'serves', 'as', 'a', 'multifaceted', 'activity', 'that', 'combines', 'leisure', 'with', 'learning', 'and', 'conservation'] \n",
            "(Token Length: 202)\n",
            "Document 2: ['spelunking', 'an', 'adventurous', 'and', 'enlightening', 'hobby', 'has', 'attracted', 'enthusiasts', 'worldwide', 'with', 'its', 'thrilling', 'exploration', 'of', 'the', 'subterranean', 'world', 'this', 'activity', 'not', 'only', 'heightens', 'one', 'appreciation', 'for', 'the', 'planet', 'underground', 'beauty', 'but', 'also', 'sharpens', 'exploratory', 'skills', 'as', 'spelunkers', 'learn', 'to', 'navigate', 'through', 'caves', 'recognizing', 'formations', 'like', 'stalactites', 'stalagmites', 'and', 'mineral', 'deposits', 'the', 'journey', 'begins', 'with', 'the', 'spelunker', 'equipping', 'themselves', 'with', 'essential', 'gear', 'such', 'as', 'helmets', 'headlamps', 'and', 'protective', 'clothing', 'venturing', 'into', 'environments', 'ranging', 'from', 'vast', 'cave', 'systems', 'to', 'narrow', 'underground', 'passages', 'these', 'tools', 'are', 'crucial', 'for', 'safe', 'navigation', 'and', 'observation', 'of', 'geological', 'features', 'enabling', 'spelunkers', 'to', 'identify', 'and', 'appreciate', 'the', 'unique', 'characteristics', 'of', 'each', 'cave', 'moreover', 'listening', 'plays', 'a', 'pivotal', 'role', 'in', 'spelunking', 'the', 'sounds', 'of', 'dripping', 'water', 'or', 'the', 'echo', 'of', 'a', 'chamber', 'can', 'enhance', 'the', 'sensory', 'experience', 'the', 'practice', 'also', 'includes', 'documenting', 'discoveries', 'often', 'in', 'a', 'journal', 'or', 'digital', 'format', 'contributing', 'to', 'scientific', 'knowledge', 'by', 'providing', 'data', 'on', 'geology', 'hydrology', 'and', 'cave', 'biology', 'this', 'aspect', 'of', 'spelunking', 'emphasizes', 'its', 'value', 'beyond', 'adventure', 'highlighting', 'its', 'contribution', 'to', 'scientific', 'understanding', 'and', 'conservation', 'through', 'these', 'pursuits', 'spelunking', 'fosters', 'a', 'connection', 'with', 'the', 'earth', 'hidden', 'landscapes', 'promotes', 'environmental', 'awareness', 'and', 'provides', 'insights', 'into', 'the', 'geological', 'processes', 'that', 'shape', 'our', 'world', 'as', 'such', 'it', 'serves', 'as', 'a', 'multifaceted', 'activity', 'that', 'blends', 'excitement', 'with', 'education', 'and', 'environmental', 'stewardship'] \n",
            "(Token Length: 213)\n",
            "Document 3: ['golfing', 'a', 'refined', 'and', 'strategic', 'hobby', 'has', 'enchanted', 'enthusiasts', 'worldwide', 'with', 'its', 'blend', 'of', 'skill', 'patience', 'and', 'outdoor', 'beauty', 'this', 'activity', 'not', 'only', 'deepens', 'one', 'appreciation', 'for', 'meticulously', 'designed', 'landscapes', 'but', 'also', 'hones', 'precision', 'and', 'focus', 'as', 'golfers', 'learn', 'to', 'master', 'strokes', 'understand', 'course', 'topography', 'and', 'gauge', 'environmental', 'factors', 'like', 'wind', 'and', 'terrain', 'the', 'experience', 'begins', 'with', 'the', 'golfer', 'equipping', 'themselves', 'with', 'essential', 'gear', 'such', 'as', 'clubs', 'balls', 'and', 'tees', 'embarking', 'on', 'courses', 'that', 'range', 'from', 'lush', 'greens', 'to', 'challenging', 'sand', 'traps', 'and', 'water', 'hazards', 'these', 'tools', 'are', 'indispensable', 'for', 'executing', 'a', 'variety', 'of', 'shots', 'allowing', 'golfers', 'to', 'navigate', 'through', 'courses', 'while', 'aiming', 'to', 'minimize', 'their', 'strokes', 'moreover', 'observation', 'plays', 'a', 'crucial', 'role', 'in', 'golfing', 'the', 'ability', 'to', 'read', 'greens', 'and', 'anticipate', 'ball', 'paths', 'can', 'significantly', 'influence', 'gameplay', 'the', 'practice', 'also', 'involves', 'keeping', 'score', 'often', 'in', 'a', 'digital', 'app', 'or', 'scorecard', 'which', 'adds', 'a', 'competitive', 'element', 'and', 'enables', 'tracking', 'of', 'progress', 'and', 'skill', 'improvement', 'this', 'aspect', 'of', 'golfing', 'underscores', 'its', 'appeal', 'beyond', 'leisure', 'highlighting', 'its', 'capacity', 'for', 'personal', 'challenge', 'and', 'mental', 'discipline', 'through', 'these', 'endeavors', 'golfing', 'fosters', 'a', 'connection', 'with', 'the', 'outdoors', 'encourages', 'sportsmanship', 'and', 'provides', 'insights', 'into', 'personal', 'strategy', 'and', 'resilience', 'as', 'such', 'it', 'serves', 'as', 'a', 'multifaceted', 'activity', 'that', 'combines', 'relaxation', 'with', 'challenge', 'and', 'personal', 'development'] \n",
            "(Token Length: 208)\n"
          ]
        }
      ]
    },
    {
      "cell_type": "code",
      "source": [
        "#StopWords Removal\n",
        "from nltk.corpus import stopwords\n",
        "# Get the English Stopwords\n",
        "stop_words = set(stopwords.words('english'))\n",
        "\n",
        "#Remove Stopwords\n",
        "no_stopwords_docs = []\n",
        "for doc in no_punctation_docs:\n",
        "  no_stopwords_docs.append([token for token in doc if token not in stop_words])\n",
        "\n",
        "print(\"No Stopwords Corpus:\")\n",
        "for i,doc in enumerate(no_stopwords_docs):\n",
        "  print(f\"Document {i+1}: {doc} \\n(Token Length: {len(doc)})\")"
      ],
      "metadata": {
        "colab": {
          "base_uri": "https://localhost:8080/"
        },
        "id": "684j3hiOn0fh",
        "outputId": "8ea3cdfa-4573-4d35-8723-f30b57b9b077"
      },
      "execution_count": 33,
      "outputs": [
        {
          "output_type": "stream",
          "name": "stdout",
          "text": [
            "No Stopwords Corpus:\n",
            "Document 1: ['birdwatching', 'study', 'serene', 'educational', 'hobby', 'captivated', 'enthusiasts', 'worldwide', 'offering', 'intimate', 'glimpse', 'avian', 'world', 'activity', 'deepens', 'one', 'appreciation', 'nature', 'diversity', 'also', 'enhances', 'observational', 'skills', 'birdwatchers', 'learn', 'identify', 'species', 'plumage', 'calls', 'behavior', 'process', 'begins', 'birdwatcher', 'positioning', 'habitats', 'ranging', 'dense', 'forests', 'urban', 'parks', 'armed', 'essential', 'tools', 'binoculars', 'field', 'guides', 'guides', 'invaluable', 'distinguishing', 'species', 'noting', 'characteristics', 'color', 'patterns', 'sizes', 'distinctive', 'markings', 'additionally', 'listening', 'plays', 'crucial', 'role', 'birdwatching', 'ability', 'recognize', 'birdsongs', 'calls', 'reveal', 'presence', 'species', 'hidden', 'view', 'practice', 'also', 'involves', 'recording', 'observations', 'often', 'journal', 'digital', 'app', 'contributes', 'citizen', 'science', 'providing', 'data', 'bird', 'populations', 'migration', 'patterns', 'aspect', 'birdwatching', 'underscores', 'significance', 'beyond', 'recreation', 'highlighting', 'contribution', 'conservation', 'efforts', 'endeavors', 'birdwatching', 'fosters', 'connection', 'nature', 'encourages', 'environmental', 'stewardship', 'provides', 'insights', 'ecological', 'roles', 'birds', 'within', 'habitats', 'serves', 'multifaceted', 'activity', 'combines', 'leisure', 'learning', 'conservation'] \n",
            "(Token Length: 122)\n",
            "Document 2: ['spelunking', 'adventurous', 'enlightening', 'hobby', 'attracted', 'enthusiasts', 'worldwide', 'thrilling', 'exploration', 'subterranean', 'world', 'activity', 'heightens', 'one', 'appreciation', 'planet', 'underground', 'beauty', 'also', 'sharpens', 'exploratory', 'skills', 'spelunkers', 'learn', 'navigate', 'caves', 'recognizing', 'formations', 'like', 'stalactites', 'stalagmites', 'mineral', 'deposits', 'journey', 'begins', 'spelunker', 'equipping', 'essential', 'gear', 'helmets', 'headlamps', 'protective', 'clothing', 'venturing', 'environments', 'ranging', 'vast', 'cave', 'systems', 'narrow', 'underground', 'passages', 'tools', 'crucial', 'safe', 'navigation', 'observation', 'geological', 'features', 'enabling', 'spelunkers', 'identify', 'appreciate', 'unique', 'characteristics', 'cave', 'moreover', 'listening', 'plays', 'pivotal', 'role', 'spelunking', 'sounds', 'dripping', 'water', 'echo', 'chamber', 'enhance', 'sensory', 'experience', 'practice', 'also', 'includes', 'documenting', 'discoveries', 'often', 'journal', 'digital', 'format', 'contributing', 'scientific', 'knowledge', 'providing', 'data', 'geology', 'hydrology', 'cave', 'biology', 'aspect', 'spelunking', 'emphasizes', 'value', 'beyond', 'adventure', 'highlighting', 'contribution', 'scientific', 'understanding', 'conservation', 'pursuits', 'spelunking', 'fosters', 'connection', 'earth', 'hidden', 'landscapes', 'promotes', 'environmental', 'awareness', 'provides', 'insights', 'geological', 'processes', 'shape', 'world', 'serves', 'multifaceted', 'activity', 'blends', 'excitement', 'education', 'environmental', 'stewardship'] \n",
            "(Token Length: 133)\n",
            "Document 3: ['golfing', 'refined', 'strategic', 'hobby', 'enchanted', 'enthusiasts', 'worldwide', 'blend', 'skill', 'patience', 'outdoor', 'beauty', 'activity', 'deepens', 'one', 'appreciation', 'meticulously', 'designed', 'landscapes', 'also', 'hones', 'precision', 'focus', 'golfers', 'learn', 'master', 'strokes', 'understand', 'course', 'topography', 'gauge', 'environmental', 'factors', 'like', 'wind', 'terrain', 'experience', 'begins', 'golfer', 'equipping', 'essential', 'gear', 'clubs', 'balls', 'tees', 'embarking', 'courses', 'range', 'lush', 'greens', 'challenging', 'sand', 'traps', 'water', 'hazards', 'tools', 'indispensable', 'executing', 'variety', 'shots', 'allowing', 'golfers', 'navigate', 'courses', 'aiming', 'minimize', 'strokes', 'moreover', 'observation', 'plays', 'crucial', 'role', 'golfing', 'ability', 'read', 'greens', 'anticipate', 'ball', 'paths', 'significantly', 'influence', 'gameplay', 'practice', 'also', 'involves', 'keeping', 'score', 'often', 'digital', 'app', 'scorecard', 'adds', 'competitive', 'element', 'enables', 'tracking', 'progress', 'skill', 'improvement', 'aspect', 'golfing', 'underscores', 'appeal', 'beyond', 'leisure', 'highlighting', 'capacity', 'personal', 'challenge', 'mental', 'discipline', 'endeavors', 'golfing', 'fosters', 'connection', 'outdoors', 'encourages', 'sportsmanship', 'provides', 'insights', 'personal', 'strategy', 'resilience', 'serves', 'multifaceted', 'activity', 'combines', 'relaxation', 'challenge', 'personal', 'development'] \n",
            "(Token Length: 131)\n"
          ]
        }
      ]
    },
    {
      "cell_type": "code",
      "source": [
        "#Add 'also' to the set of stopwords\n",
        "stop_words.add('also')\n",
        "\n",
        "#Remove stopwords again, now including 'also'\n",
        "no_stopwords_docs_again = []\n",
        "for doc in no_punctation_docs:\n",
        "  no_stopwords_docs_again.append([token for token in doc if token not in stop_words])\n",
        "\n",
        "print(\"No Stopwords Corpus (again):\")\n",
        "for i,doc in enumerate(no_stopwords_docs_again):\n",
        "  print(f\"Document {i+1}: {doc} \\n(Token Length: {len(doc)})\")"
      ],
      "metadata": {
        "colab": {
          "base_uri": "https://localhost:8080/"
        },
        "id": "ZGyKH1jqoS2s",
        "outputId": "af736004-f58f-4445-d5f8-a008247001cb"
      },
      "execution_count": 34,
      "outputs": [
        {
          "output_type": "stream",
          "name": "stdout",
          "text": [
            "No Stopwords Corpus (again):\n",
            "Document 1: ['birdwatching', 'study', 'serene', 'educational', 'hobby', 'captivated', 'enthusiasts', 'worldwide', 'offering', 'intimate', 'glimpse', 'avian', 'world', 'activity', 'deepens', 'one', 'appreciation', 'nature', 'diversity', 'enhances', 'observational', 'skills', 'birdwatchers', 'learn', 'identify', 'species', 'plumage', 'calls', 'behavior', 'process', 'begins', 'birdwatcher', 'positioning', 'habitats', 'ranging', 'dense', 'forests', 'urban', 'parks', 'armed', 'essential', 'tools', 'binoculars', 'field', 'guides', 'guides', 'invaluable', 'distinguishing', 'species', 'noting', 'characteristics', 'color', 'patterns', 'sizes', 'distinctive', 'markings', 'additionally', 'listening', 'plays', 'crucial', 'role', 'birdwatching', 'ability', 'recognize', 'birdsongs', 'calls', 'reveal', 'presence', 'species', 'hidden', 'view', 'practice', 'involves', 'recording', 'observations', 'often', 'journal', 'digital', 'app', 'contributes', 'citizen', 'science', 'providing', 'data', 'bird', 'populations', 'migration', 'patterns', 'aspect', 'birdwatching', 'underscores', 'significance', 'beyond', 'recreation', 'highlighting', 'contribution', 'conservation', 'efforts', 'endeavors', 'birdwatching', 'fosters', 'connection', 'nature', 'encourages', 'environmental', 'stewardship', 'provides', 'insights', 'ecological', 'roles', 'birds', 'within', 'habitats', 'serves', 'multifaceted', 'activity', 'combines', 'leisure', 'learning', 'conservation'] \n",
            "(Token Length: 120)\n",
            "Document 2: ['spelunking', 'adventurous', 'enlightening', 'hobby', 'attracted', 'enthusiasts', 'worldwide', 'thrilling', 'exploration', 'subterranean', 'world', 'activity', 'heightens', 'one', 'appreciation', 'planet', 'underground', 'beauty', 'sharpens', 'exploratory', 'skills', 'spelunkers', 'learn', 'navigate', 'caves', 'recognizing', 'formations', 'like', 'stalactites', 'stalagmites', 'mineral', 'deposits', 'journey', 'begins', 'spelunker', 'equipping', 'essential', 'gear', 'helmets', 'headlamps', 'protective', 'clothing', 'venturing', 'environments', 'ranging', 'vast', 'cave', 'systems', 'narrow', 'underground', 'passages', 'tools', 'crucial', 'safe', 'navigation', 'observation', 'geological', 'features', 'enabling', 'spelunkers', 'identify', 'appreciate', 'unique', 'characteristics', 'cave', 'moreover', 'listening', 'plays', 'pivotal', 'role', 'spelunking', 'sounds', 'dripping', 'water', 'echo', 'chamber', 'enhance', 'sensory', 'experience', 'practice', 'includes', 'documenting', 'discoveries', 'often', 'journal', 'digital', 'format', 'contributing', 'scientific', 'knowledge', 'providing', 'data', 'geology', 'hydrology', 'cave', 'biology', 'aspect', 'spelunking', 'emphasizes', 'value', 'beyond', 'adventure', 'highlighting', 'contribution', 'scientific', 'understanding', 'conservation', 'pursuits', 'spelunking', 'fosters', 'connection', 'earth', 'hidden', 'landscapes', 'promotes', 'environmental', 'awareness', 'provides', 'insights', 'geological', 'processes', 'shape', 'world', 'serves', 'multifaceted', 'activity', 'blends', 'excitement', 'education', 'environmental', 'stewardship'] \n",
            "(Token Length: 131)\n",
            "Document 3: ['golfing', 'refined', 'strategic', 'hobby', 'enchanted', 'enthusiasts', 'worldwide', 'blend', 'skill', 'patience', 'outdoor', 'beauty', 'activity', 'deepens', 'one', 'appreciation', 'meticulously', 'designed', 'landscapes', 'hones', 'precision', 'focus', 'golfers', 'learn', 'master', 'strokes', 'understand', 'course', 'topography', 'gauge', 'environmental', 'factors', 'like', 'wind', 'terrain', 'experience', 'begins', 'golfer', 'equipping', 'essential', 'gear', 'clubs', 'balls', 'tees', 'embarking', 'courses', 'range', 'lush', 'greens', 'challenging', 'sand', 'traps', 'water', 'hazards', 'tools', 'indispensable', 'executing', 'variety', 'shots', 'allowing', 'golfers', 'navigate', 'courses', 'aiming', 'minimize', 'strokes', 'moreover', 'observation', 'plays', 'crucial', 'role', 'golfing', 'ability', 'read', 'greens', 'anticipate', 'ball', 'paths', 'significantly', 'influence', 'gameplay', 'practice', 'involves', 'keeping', 'score', 'often', 'digital', 'app', 'scorecard', 'adds', 'competitive', 'element', 'enables', 'tracking', 'progress', 'skill', 'improvement', 'aspect', 'golfing', 'underscores', 'appeal', 'beyond', 'leisure', 'highlighting', 'capacity', 'personal', 'challenge', 'mental', 'discipline', 'endeavors', 'golfing', 'fosters', 'connection', 'outdoors', 'encourages', 'sportsmanship', 'provides', 'insights', 'personal', 'strategy', 'resilience', 'serves', 'multifaceted', 'activity', 'combines', 'relaxation', 'challenge', 'personal', 'development'] \n",
            "(Token Length: 129)\n"
          ]
        }
      ]
    },
    {
      "cell_type": "code",
      "source": [
        "#Lemmatization and Stemming\n",
        "from nltk.stem import WordNetLemmatizer, PorterStemmer\n",
        "\n",
        "#Initialize the Poeter Stemmer\n",
        "stemmer = PorterStemmer()\n",
        "\n",
        "#Applying stemming to the documents\n",
        "stemmed_docs = []\n",
        "for tokens in no_stopwords_docs_again:\n",
        "  stemmed_docs.append([stemmer.stem(token) for token in tokens])\n",
        "\n",
        "print(\"Stemmed Corpus:\")\n",
        "for i,doc in enumerate(stemmed_docs):\n",
        "  print(f\"Document {i+1}: {doc} \\n(Token Length: {len(doc)})\")"
      ],
      "metadata": {
        "colab": {
          "base_uri": "https://localhost:8080/"
        },
        "id": "OPm1eSktplU0",
        "outputId": "a70e60df-d26f-40c4-a2c7-fdbfaf027bc1"
      },
      "execution_count": 35,
      "outputs": [
        {
          "output_type": "stream",
          "name": "stdout",
          "text": [
            "Stemmed Corpus:\n",
            "Document 1: ['birdwatch', 'studi', 'seren', 'educ', 'hobbi', 'captiv', 'enthusiast', 'worldwid', 'offer', 'intim', 'glimps', 'avian', 'world', 'activ', 'deepen', 'one', 'appreci', 'natur', 'divers', 'enhanc', 'observ', 'skill', 'birdwatch', 'learn', 'identifi', 'speci', 'plumag', 'call', 'behavior', 'process', 'begin', 'birdwatch', 'posit', 'habitat', 'rang', 'dens', 'forest', 'urban', 'park', 'arm', 'essenti', 'tool', 'binocular', 'field', 'guid', 'guid', 'invalu', 'distinguish', 'speci', 'note', 'characterist', 'color', 'pattern', 'size', 'distinct', 'mark', 'addit', 'listen', 'play', 'crucial', 'role', 'birdwatch', 'abil', 'recogn', 'birdsong', 'call', 'reveal', 'presenc', 'speci', 'hidden', 'view', 'practic', 'involv', 'record', 'observ', 'often', 'journal', 'digit', 'app', 'contribut', 'citizen', 'scienc', 'provid', 'data', 'bird', 'popul', 'migrat', 'pattern', 'aspect', 'birdwatch', 'underscor', 'signific', 'beyond', 'recreat', 'highlight', 'contribut', 'conserv', 'effort', 'endeavor', 'birdwatch', 'foster', 'connect', 'natur', 'encourag', 'environment', 'stewardship', 'provid', 'insight', 'ecolog', 'role', 'bird', 'within', 'habitat', 'serv', 'multifacet', 'activ', 'combin', 'leisur', 'learn', 'conserv'] \n",
            "(Token Length: 120)\n",
            "Document 2: ['spelunk', 'adventur', 'enlighten', 'hobbi', 'attract', 'enthusiast', 'worldwid', 'thrill', 'explor', 'subterranean', 'world', 'activ', 'heighten', 'one', 'appreci', 'planet', 'underground', 'beauti', 'sharpen', 'exploratori', 'skill', 'spelunk', 'learn', 'navig', 'cave', 'recogn', 'format', 'like', 'stalactit', 'stalagmit', 'miner', 'deposit', 'journey', 'begin', 'spelunk', 'equip', 'essenti', 'gear', 'helmet', 'headlamp', 'protect', 'cloth', 'ventur', 'environ', 'rang', 'vast', 'cave', 'system', 'narrow', 'underground', 'passag', 'tool', 'crucial', 'safe', 'navig', 'observ', 'geolog', 'featur', 'enabl', 'spelunk', 'identifi', 'appreci', 'uniqu', 'characterist', 'cave', 'moreov', 'listen', 'play', 'pivot', 'role', 'spelunk', 'sound', 'drip', 'water', 'echo', 'chamber', 'enhanc', 'sensori', 'experi', 'practic', 'includ', 'document', 'discoveri', 'often', 'journal', 'digit', 'format', 'contribut', 'scientif', 'knowledg', 'provid', 'data', 'geolog', 'hydrolog', 'cave', 'biolog', 'aspect', 'spelunk', 'emphas', 'valu', 'beyond', 'adventur', 'highlight', 'contribut', 'scientif', 'understand', 'conserv', 'pursuit', 'spelunk', 'foster', 'connect', 'earth', 'hidden', 'landscap', 'promot', 'environment', 'awar', 'provid', 'insight', 'geolog', 'process', 'shape', 'world', 'serv', 'multifacet', 'activ', 'blend', 'excit', 'educ', 'environment', 'stewardship'] \n",
            "(Token Length: 131)\n",
            "Document 3: ['golf', 'refin', 'strateg', 'hobbi', 'enchant', 'enthusiast', 'worldwid', 'blend', 'skill', 'patienc', 'outdoor', 'beauti', 'activ', 'deepen', 'one', 'appreci', 'meticul', 'design', 'landscap', 'hone', 'precis', 'focu', 'golfer', 'learn', 'master', 'stroke', 'understand', 'cours', 'topographi', 'gaug', 'environment', 'factor', 'like', 'wind', 'terrain', 'experi', 'begin', 'golfer', 'equip', 'essenti', 'gear', 'club', 'ball', 'tee', 'embark', 'cours', 'rang', 'lush', 'green', 'challeng', 'sand', 'trap', 'water', 'hazard', 'tool', 'indispens', 'execut', 'varieti', 'shot', 'allow', 'golfer', 'navig', 'cours', 'aim', 'minim', 'stroke', 'moreov', 'observ', 'play', 'crucial', 'role', 'golf', 'abil', 'read', 'green', 'anticip', 'ball', 'path', 'significantli', 'influenc', 'gameplay', 'practic', 'involv', 'keep', 'score', 'often', 'digit', 'app', 'scorecard', 'add', 'competit', 'element', 'enabl', 'track', 'progress', 'skill', 'improv', 'aspect', 'golf', 'underscor', 'appeal', 'beyond', 'leisur', 'highlight', 'capac', 'person', 'challeng', 'mental', 'disciplin', 'endeavor', 'golf', 'foster', 'connect', 'outdoor', 'encourag', 'sportsmanship', 'provid', 'insight', 'person', 'strategi', 'resili', 'serv', 'multifacet', 'activ', 'combin', 'relax', 'challeng', 'person', 'develop'] \n",
            "(Token Length: 129)\n"
          ]
        }
      ]
    },
    {
      "cell_type": "code",
      "source": [
        "#Initialize the WordNet Lemmatizer\n",
        "lemmatizer = WordNetLemmatizer()\n",
        "\n",
        "#Apply lemmatization to the documents\n",
        "lemmatized_docs = []\n",
        "for tokens in no_stopwords_docs_again:\n",
        "  lemmatized_docs.append([lemmatizer.lemmatize(token) for token in tokens])\n",
        "\n",
        "print(\"Lemmatized Corpus:\")\n",
        "for i,doc in enumerate(lemmatized_docs):\n",
        "  print(f\"Document {i+1}: {doc} \\n(Token Length: {len(doc)})\")"
      ],
      "metadata": {
        "colab": {
          "base_uri": "https://localhost:8080/"
        },
        "id": "CvrPf3LJrPK6",
        "outputId": "10b670bf-a90d-4947-a687-5505edfeece3"
      },
      "execution_count": 38,
      "outputs": [
        {
          "output_type": "stream",
          "name": "stdout",
          "text": [
            "Lemmatized Corpus:\n",
            "Document 1: ['birdwatching', 'study', 'serene', 'educational', 'hobby', 'captivated', 'enthusiast', 'worldwide', 'offering', 'intimate', 'glimpse', 'avian', 'world', 'activity', 'deepens', 'one', 'appreciation', 'nature', 'diversity', 'enhances', 'observational', 'skill', 'birdwatchers', 'learn', 'identify', 'specie', 'plumage', 'call', 'behavior', 'process', 'begin', 'birdwatcher', 'positioning', 'habitat', 'ranging', 'dense', 'forest', 'urban', 'park', 'armed', 'essential', 'tool', 'binoculars', 'field', 'guide', 'guide', 'invaluable', 'distinguishing', 'specie', 'noting', 'characteristic', 'color', 'pattern', 'size', 'distinctive', 'marking', 'additionally', 'listening', 'play', 'crucial', 'role', 'birdwatching', 'ability', 'recognize', 'birdsong', 'call', 'reveal', 'presence', 'specie', 'hidden', 'view', 'practice', 'involves', 'recording', 'observation', 'often', 'journal', 'digital', 'app', 'contributes', 'citizen', 'science', 'providing', 'data', 'bird', 'population', 'migration', 'pattern', 'aspect', 'birdwatching', 'underscore', 'significance', 'beyond', 'recreation', 'highlighting', 'contribution', 'conservation', 'effort', 'endeavor', 'birdwatching', 'foster', 'connection', 'nature', 'encourages', 'environmental', 'stewardship', 'provides', 'insight', 'ecological', 'role', 'bird', 'within', 'habitat', 'serf', 'multifaceted', 'activity', 'combine', 'leisure', 'learning', 'conservation'] \n",
            "(Token Length: 120)\n",
            "Document 2: ['spelunking', 'adventurous', 'enlightening', 'hobby', 'attracted', 'enthusiast', 'worldwide', 'thrilling', 'exploration', 'subterranean', 'world', 'activity', 'heightens', 'one', 'appreciation', 'planet', 'underground', 'beauty', 'sharpens', 'exploratory', 'skill', 'spelunker', 'learn', 'navigate', 'cave', 'recognizing', 'formation', 'like', 'stalactite', 'stalagmite', 'mineral', 'deposit', 'journey', 'begin', 'spelunker', 'equipping', 'essential', 'gear', 'helmet', 'headlamp', 'protective', 'clothing', 'venturing', 'environment', 'ranging', 'vast', 'cave', 'system', 'narrow', 'underground', 'passage', 'tool', 'crucial', 'safe', 'navigation', 'observation', 'geological', 'feature', 'enabling', 'spelunker', 'identify', 'appreciate', 'unique', 'characteristic', 'cave', 'moreover', 'listening', 'play', 'pivotal', 'role', 'spelunking', 'sound', 'dripping', 'water', 'echo', 'chamber', 'enhance', 'sensory', 'experience', 'practice', 'includes', 'documenting', 'discovery', 'often', 'journal', 'digital', 'format', 'contributing', 'scientific', 'knowledge', 'providing', 'data', 'geology', 'hydrology', 'cave', 'biology', 'aspect', 'spelunking', 'emphasizes', 'value', 'beyond', 'adventure', 'highlighting', 'contribution', 'scientific', 'understanding', 'conservation', 'pursuit', 'spelunking', 'foster', 'connection', 'earth', 'hidden', 'landscape', 'promotes', 'environmental', 'awareness', 'provides', 'insight', 'geological', 'process', 'shape', 'world', 'serf', 'multifaceted', 'activity', 'blend', 'excitement', 'education', 'environmental', 'stewardship'] \n",
            "(Token Length: 131)\n",
            "Document 3: ['golfing', 'refined', 'strategic', 'hobby', 'enchanted', 'enthusiast', 'worldwide', 'blend', 'skill', 'patience', 'outdoor', 'beauty', 'activity', 'deepens', 'one', 'appreciation', 'meticulously', 'designed', 'landscape', 'hone', 'precision', 'focus', 'golfer', 'learn', 'master', 'stroke', 'understand', 'course', 'topography', 'gauge', 'environmental', 'factor', 'like', 'wind', 'terrain', 'experience', 'begin', 'golfer', 'equipping', 'essential', 'gear', 'club', 'ball', 'tee', 'embarking', 'course', 'range', 'lush', 'green', 'challenging', 'sand', 'trap', 'water', 'hazard', 'tool', 'indispensable', 'executing', 'variety', 'shot', 'allowing', 'golfer', 'navigate', 'course', 'aiming', 'minimize', 'stroke', 'moreover', 'observation', 'play', 'crucial', 'role', 'golfing', 'ability', 'read', 'green', 'anticipate', 'ball', 'path', 'significantly', 'influence', 'gameplay', 'practice', 'involves', 'keeping', 'score', 'often', 'digital', 'app', 'scorecard', 'add', 'competitive', 'element', 'enables', 'tracking', 'progress', 'skill', 'improvement', 'aspect', 'golfing', 'underscore', 'appeal', 'beyond', 'leisure', 'highlighting', 'capacity', 'personal', 'challenge', 'mental', 'discipline', 'endeavor', 'golfing', 'foster', 'connection', 'outdoors', 'encourages', 'sportsmanship', 'provides', 'insight', 'personal', 'strategy', 'resilience', 'serf', 'multifaceted', 'activity', 'combine', 'relaxation', 'challenge', 'personal', 'development'] \n",
            "(Token Length: 129)\n"
          ]
        }
      ]
    },
    {
      "cell_type": "code",
      "source": [
        "#install spacy\n",
        "#!pip install spacy\n",
        "\n",
        "#!python -m spacy download en_core_web_sm"
      ],
      "metadata": {
        "id": "vmvgf3aYr4XM"
      },
      "execution_count": 39,
      "outputs": []
    },
    {
      "cell_type": "code",
      "source": [
        "import spacy\n",
        "\n",
        "#Load the English language model with lemmatization capabilities\n",
        "nlp = spacy.load(\"en_core_web_sm\")\n",
        "\n",
        "#Apply lemmatization using spaCy\n",
        "lemmatized_docs_spacy = []\n",
        "for doc in no_stopwords_docs_again:\n",
        "  doc_spacy = nlp(\" \".join(doc))\n",
        "  lemmatized_tokens = [token.lemma_ for token in doc_spacy]\n",
        "  lemmatized_docs_spacy.append([lemmatizer.lemmatize(token) for token in lemmatized_tokens])\n",
        "\n",
        "#print the lemmatization documents using spaCy, along with their token counts\n",
        "print(\"\\nLemmatized Corpus (using spaCy):\")\n",
        "for i,doc in enumerate(lemmatized_docs_spacy):\n",
        "  print(f\"Document {i+1}: {doc} \\n(Token Length: {len(doc)})\")"
      ],
      "metadata": {
        "colab": {
          "base_uri": "https://localhost:8080/"
        },
        "id": "5BYBfDnEsYAz",
        "outputId": "0e99f8c2-2b54-41b6-fcc4-314dee2d6f8f"
      },
      "execution_count": 46,
      "outputs": [
        {
          "output_type": "stream",
          "name": "stdout",
          "text": [
            "\n",
            "Lemmatized Corpus (using spaCy):\n",
            "Document 1: ['birdwatch', 'study', 'serene', 'educational', 'hobby', 'captivate', 'enthusiast', 'worldwide', 'offer', 'intimate', 'glimpse', 'avian', 'world', 'activity', 'deepen', 'one', 'appreciation', 'nature', 'diversity', 'enhance', 'observational', 'skill', 'birdwatcher', 'learn', 'identify', 'specie', 'plumage', 'call', 'behavior', 'process', 'begin', 'birdwatcher', 'position', 'habitat', 'range', 'dense', 'forest', 'urban', 'park', 'arm', 'essential', 'tool', 'binocular', 'field', 'guide', 'guide', 'invaluable', 'distinguish', 'specie', 'note', 'characteristic', 'color', 'pattern', 'size', 'distinctive', 'marking', 'additionally', 'listen', 'play', 'crucial', 'role', 'birdwatching', 'ability', 'recognize', 'birdsong', 'call', 'reveal', 'presence', 'specie', 'hide', 'view', 'practice', 'involve', 'record', 'observation', 'often', 'journal', 'digital', 'app', 'contribute', 'citizen', 'science', 'provide', 'datum', 'bird', 'population', 'migration', 'pattern', 'aspect', 'birdwatch', 'underscore', 'significance', 'beyond', 'recreation', 'highlight', 'contribution', 'conservation', 'effort', 'endeavor', 'birdwatch', 'foster', 'connection', 'nature', 'encourage', 'environmental', 'stewardship', 'provide', 'insight', 'ecological', 'role', 'bird', 'within', 'habitat', 'serve', 'multifaceted', 'activity', 'combine', 'leisure', 'learn', 'conservation'] \n",
            "(Token Length: 120)\n",
            "Document 2: ['spelunk', 'adventurous', 'enlightening', 'hobby', 'attract', 'enthusiast', 'worldwide', 'thrill', 'exploration', 'subterranean', 'world', 'activity', 'heightens', 'one', 'appreciation', 'planet', 'underground', 'beauty', 'sharpen', 'exploratory', 'skill', 'spelunker', 'learn', 'navigate', 'cave', 'recognize', 'formation', 'like', 'stalactite', 'stalagmite', 'mineral', 'deposit', 'journey', 'begin', 'spelunker', 'equip', 'essential', 'gear', 'helmet', 'headlamp', 'protective', 'clothing', 'venturing', 'environment', 'range', 'vast', 'cave', 'system', 'narrow', 'underground', 'passage', 'tool', 'crucial', 'safe', 'navigation', 'observation', 'geological', 'feature', 'enable', 'spelunker', 'identify', 'appreciate', 'unique', 'characteristic', 'cave', 'moreover', 'listen', 'play', 'pivotal', 'role', 'spelunk', 'sound', 'dripping', 'water', 'echo', 'chamber', 'enhance', 'sensory', 'experience', 'practice', 'include', 'document', 'discovery', 'often', 'journal', 'digital', 'format', 'contribute', 'scientific', 'knowledge', 'provide', 'datum', 'geology', 'hydrology', 'cave', 'biology', 'aspect', 'spelunk', 'emphasize', 'value', 'beyond', 'adventure', 'highlight', 'contribution', 'scientific', 'understanding', 'conservation', 'pursuit', 'spelunk', 'foster', 'connection', 'earth', 'hide', 'landscape', 'promote', 'environmental', 'awareness', 'provide', 'insight', 'geological', 'process', 'shape', 'world', 'serve', 'multifaceted', 'activity', 'blend', 'excitement', 'education', 'environmental', 'stewardship'] \n",
            "(Token Length: 131)\n",
            "Document 3: ['golfing', 'refine', 'strategic', 'hobby', 'enchant', 'enthusiast', 'worldwide', 'blend', 'skill', 'patience', 'outdoor', 'beauty', 'activity', 'deepen', 'one', 'appreciation', 'meticulously', 'design', 'landscape', 'hone', 'precision', 'focus', 'golfer', 'learn', 'master', 'stroke', 'understand', 'course', 'topography', 'gauge', 'environmental', 'factor', 'like', 'wind', 'terrain', 'experience', 'begin', 'golfer', 'equip', 'essential', 'gear', 'club', 'ball', 'tee', 'embark', 'course', 'range', 'lush', 'green', 'challenge', 'sand', 'trap', 'water', 'hazard', 'tool', 'indispensable', 'execute', 'variety', 'shot', 'allow', 'golfer', 'navigate', 'course', 'aim', 'minimize', 'stroke', 'moreover', 'observation', 'play', 'crucial', 'role', 'golfing', 'ability', 'read', 'green', 'anticipate', 'ball', 'path', 'significantly', 'influence', 'gameplay', 'practice', 'involve', 'keep', 'score', 'often', 'digital', 'app', 'scorecard', 'add', 'competitive', 'element', 'enable', 'track', 'progress', 'skill', 'improvement', 'aspect', 'golf', 'underscore', 'appeal', 'beyond', 'leisure', 'highlighting', 'capacity', 'personal', 'challenge', 'mental', 'discipline', 'endeavor', 'golf', 'foster', 'connection', 'outdoors', 'encourage', 'sportsmanship', 'provide', 'insight', 'personal', 'strategy', 'resilience', 'serve', 'multifaceted', 'activity', 'combine', 'relaxation', 'challenge', 'personal', 'development'] \n",
            "(Token Length: 129)\n"
          ]
        }
      ]
    }
  ]
}